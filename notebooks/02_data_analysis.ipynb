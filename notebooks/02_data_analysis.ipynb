{
 "cells": [
  {
   "cell_type": "code",
   "execution_count": null,
   "metadata": {
    "vscode": {
     "languageId": "plaintext"
    }
   },
   "outputs": [],
   "source": [
    "import pandas as pd\n",
    "import matplotlib.pyplot as plt\n",
    "import seaborn as sns\n",
    "\n",
    "# Set aesthetic parameters in one step\n",
    "sns.set(style=\"whitegrid\")\n",
    "\n",
    "path = '../data/raw/experimental.xlsx'\n",
    "df = pd.read_excel(path)\n",
    "# Load the dataset\n",
    "df = pd.read_csv('../data/processed/cleaned_data_20240621_143909.csv')\n",
    "\n",
    "# Display first few rows of the dataset\n",
    "df.head()"
   ]
  }
 ],
 "metadata": {
  "language_info": {
   "name": "python"
  }
 },
 "nbformat": 4,
 "nbformat_minor": 2
}
