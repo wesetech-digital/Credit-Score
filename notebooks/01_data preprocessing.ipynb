{
 "cells": [
  {
   "cell_type": "code",
   "execution_count": 1,
   "id": "73ee707e-2ff8-4304-891a-dbc38e9ce43d",
   "metadata": {},
   "outputs": [],
   "source": [
    "#Loading Data"
   ]
  },
  {
   "cell_type": "code",
   "execution_count": 2,
   "id": "e814b1f0-635a-4b5a-8a13-3b428f0984ad",
   "metadata": {},
   "outputs": [],
   "source": [
    "import pandas as pd\n",
    "import numpy as np"
   ]
  },
  {
   "cell_type": "code",
   "execution_count": 3,
   "id": "e813c0e9-5b23-437b-a8a2-fce3357e29b8",
   "metadata": {},
   "outputs": [],
   "source": [
    "path = '../data/raw/experimental.xlsx'\n",
    "df = pd.read_excel(path)"
   ]
  },
  {
   "cell_type": "code",
   "execution_count": 4,
   "id": "3f671cff-1e41-46ac-b82e-9ce874fe2a7d",
   "metadata": {},
   "outputs": [
    {
     "name": "stdout",
     "output_type": "stream",
     "text": [
      "<class 'pandas.core.frame.DataFrame'>\n",
      "RangeIndex: 227170 entries, 0 to 227169\n",
      "Data columns (total 14 columns):\n",
      " #   Column                Non-Null Count   Dtype  \n",
      "---  ------                --------------   -----  \n",
      " 0   loan status           227170 non-null  object \n",
      " 1   annual income         227170 non-null  float64\n",
      " 2   employment length     218498 non-null  object \n",
      " 3   loan amount           227170 non-null  int64  \n",
      " 4   income verification   227170 non-null  object \n",
      " 5   intrest rate          227170 non-null  float64\n",
      " 6   term                  227170 non-null  object \n",
      " 7   purpose               227170 non-null  object \n",
      " 8   housing type          227170 non-null  object \n",
      " 9   debt to income ratio  227170 non-null  float64\n",
      " 10  credit availability   227170 non-null  int64  \n",
      " 11  delayed payments      227170 non-null  object \n",
      " 12  pending registration  227170 non-null  object \n",
      " 13  credit application    227170 non-null  object \n",
      "dtypes: float64(3), int64(2), object(9)\n",
      "memory usage: 24.3+ MB\n"
     ]
    }
   ],
   "source": [
    "df.info()\n"
   ]
  },
  {
   "cell_type": "code",
   "execution_count": 5,
   "id": "bc323fc3",
   "metadata": {},
   "outputs": [
    {
     "data": {
      "text/html": [
       "<div>\n",
       "<style scoped>\n",
       "    .dataframe tbody tr th:only-of-type {\n",
       "        vertical-align: middle;\n",
       "    }\n",
       "\n",
       "    .dataframe tbody tr th {\n",
       "        vertical-align: top;\n",
       "    }\n",
       "\n",
       "    .dataframe thead th {\n",
       "        text-align: right;\n",
       "    }\n",
       "</style>\n",
       "<table border=\"1\" class=\"dataframe\">\n",
       "  <thead>\n",
       "    <tr style=\"text-align: right;\">\n",
       "      <th></th>\n",
       "      <th>loan status</th>\n",
       "      <th>employment length</th>\n",
       "      <th>income verification</th>\n",
       "      <th>term</th>\n",
       "      <th>purpose</th>\n",
       "      <th>housing type</th>\n",
       "      <th>delayed payments</th>\n",
       "      <th>pending registration</th>\n",
       "      <th>credit application</th>\n",
       "    </tr>\n",
       "  </thead>\n",
       "  <tbody>\n",
       "    <tr>\n",
       "      <th>0</th>\n",
       "      <td>Fully Paid</td>\n",
       "      <td>10+ years</td>\n",
       "      <td>Verified</td>\n",
       "      <td>36 months</td>\n",
       "      <td>credit_card</td>\n",
       "      <td>RENT</td>\n",
       "      <td>NO</td>\n",
       "      <td>NO</td>\n",
       "      <td>ONE</td>\n",
       "    </tr>\n",
       "    <tr>\n",
       "      <th>1</th>\n",
       "      <td>Charged Off</td>\n",
       "      <td>&lt; 1 year</td>\n",
       "      <td>Source Verified</td>\n",
       "      <td>60 months</td>\n",
       "      <td>car</td>\n",
       "      <td>RENT</td>\n",
       "      <td>NO</td>\n",
       "      <td>NO</td>\n",
       "      <td>FOUR+</td>\n",
       "    </tr>\n",
       "    <tr>\n",
       "      <th>2</th>\n",
       "      <td>Fully Paid</td>\n",
       "      <td>10+ years</td>\n",
       "      <td>Not Verified</td>\n",
       "      <td>36 months</td>\n",
       "      <td>small_business</td>\n",
       "      <td>RENT</td>\n",
       "      <td>NO</td>\n",
       "      <td>NO</td>\n",
       "      <td>TWO</td>\n",
       "    </tr>\n",
       "    <tr>\n",
       "      <th>3</th>\n",
       "      <td>Fully Paid</td>\n",
       "      <td>10+ years</td>\n",
       "      <td>Source Verified</td>\n",
       "      <td>36 months</td>\n",
       "      <td>other</td>\n",
       "      <td>RENT</td>\n",
       "      <td>NO</td>\n",
       "      <td>NO</td>\n",
       "      <td>ONE</td>\n",
       "    </tr>\n",
       "    <tr>\n",
       "      <th>4</th>\n",
       "      <td>Fully Paid</td>\n",
       "      <td>3 years</td>\n",
       "      <td>Source Verified</td>\n",
       "      <td>36 months</td>\n",
       "      <td>wedding</td>\n",
       "      <td>RENT</td>\n",
       "      <td>NO</td>\n",
       "      <td>NO</td>\n",
       "      <td>THREE</td>\n",
       "    </tr>\n",
       "    <tr>\n",
       "      <th>...</th>\n",
       "      <td>...</td>\n",
       "      <td>...</td>\n",
       "      <td>...</td>\n",
       "      <td>...</td>\n",
       "      <td>...</td>\n",
       "      <td>...</td>\n",
       "      <td>...</td>\n",
       "      <td>...</td>\n",
       "      <td>...</td>\n",
       "    </tr>\n",
       "    <tr>\n",
       "      <th>227165</th>\n",
       "      <td>Charged Off</td>\n",
       "      <td>5 years</td>\n",
       "      <td>Verified</td>\n",
       "      <td>60 months</td>\n",
       "      <td>medical</td>\n",
       "      <td>MORTGAGE</td>\n",
       "      <td>YES</td>\n",
       "      <td>NO</td>\n",
       "      <td>NONE</td>\n",
       "    </tr>\n",
       "    <tr>\n",
       "      <th>227166</th>\n",
       "      <td>Charged Off</td>\n",
       "      <td>3 years</td>\n",
       "      <td>Verified</td>\n",
       "      <td>36 months</td>\n",
       "      <td>debt_consolidation</td>\n",
       "      <td>RENT</td>\n",
       "      <td>YES</td>\n",
       "      <td>NO</td>\n",
       "      <td>NONE</td>\n",
       "    </tr>\n",
       "    <tr>\n",
       "      <th>227167</th>\n",
       "      <td>Fully Paid</td>\n",
       "      <td>10+ years</td>\n",
       "      <td>Source Verified</td>\n",
       "      <td>36 months</td>\n",
       "      <td>vacation</td>\n",
       "      <td>RENT</td>\n",
       "      <td>NO</td>\n",
       "      <td>NO</td>\n",
       "      <td>NONE</td>\n",
       "    </tr>\n",
       "    <tr>\n",
       "      <th>227168</th>\n",
       "      <td>Charged Off</td>\n",
       "      <td>10+ years</td>\n",
       "      <td>Verified</td>\n",
       "      <td>60 months</td>\n",
       "      <td>debt_consolidation</td>\n",
       "      <td>MORTGAGE</td>\n",
       "      <td>NO</td>\n",
       "      <td>YES</td>\n",
       "      <td>FOUR+</td>\n",
       "    </tr>\n",
       "    <tr>\n",
       "      <th>227169</th>\n",
       "      <td>Fully Paid</td>\n",
       "      <td>3 years</td>\n",
       "      <td>Verified</td>\n",
       "      <td>36 months</td>\n",
       "      <td>credit_card</td>\n",
       "      <td>OWN</td>\n",
       "      <td>YES</td>\n",
       "      <td>NO</td>\n",
       "      <td>ONE</td>\n",
       "    </tr>\n",
       "  </tbody>\n",
       "</table>\n",
       "<p>227170 rows × 9 columns</p>\n",
       "</div>"
      ],
      "text/plain": [
       "        loan status employment length income verification        term  \\\n",
       "0        Fully Paid         10+ years            Verified   36 months   \n",
       "1       Charged Off          < 1 year     Source Verified   60 months   \n",
       "2        Fully Paid         10+ years        Not Verified   36 months   \n",
       "3        Fully Paid         10+ years     Source Verified   36 months   \n",
       "4        Fully Paid           3 years     Source Verified   36 months   \n",
       "...             ...               ...                 ...         ...   \n",
       "227165  Charged Off           5 years            Verified   60 months   \n",
       "227166  Charged Off           3 years            Verified   36 months   \n",
       "227167   Fully Paid         10+ years     Source Verified   36 months   \n",
       "227168  Charged Off         10+ years            Verified   60 months   \n",
       "227169   Fully Paid           3 years            Verified   36 months   \n",
       "\n",
       "                   purpose housing type delayed payments pending registration  \\\n",
       "0              credit_card         RENT               NO                   NO   \n",
       "1                      car         RENT               NO                   NO   \n",
       "2           small_business         RENT               NO                   NO   \n",
       "3                    other         RENT               NO                   NO   \n",
       "4                  wedding         RENT               NO                   NO   \n",
       "...                    ...          ...              ...                  ...   \n",
       "227165             medical     MORTGAGE              YES                   NO   \n",
       "227166  debt_consolidation         RENT              YES                   NO   \n",
       "227167            vacation         RENT               NO                   NO   \n",
       "227168  debt_consolidation     MORTGAGE               NO                  YES   \n",
       "227169         credit_card          OWN              YES                   NO   \n",
       "\n",
       "       credit application  \n",
       "0                     ONE  \n",
       "1                   FOUR+  \n",
       "2                     TWO  \n",
       "3                     ONE  \n",
       "4                   THREE  \n",
       "...                   ...  \n",
       "227165               NONE  \n",
       "227166               NONE  \n",
       "227167               NONE  \n",
       "227168              FOUR+  \n",
       "227169                ONE  \n",
       "\n",
       "[227170 rows x 9 columns]"
      ]
     },
     "execution_count": 5,
     "metadata": {},
     "output_type": "execute_result"
    }
   ],
   "source": [
    "df.select_dtypes(object)\n"
   ]
  },
  {
   "cell_type": "code",
   "execution_count": 6,
   "id": "0ff4c702",
   "metadata": {},
   "outputs": [
    {
     "data": {
      "text/html": [
       "<div>\n",
       "<style scoped>\n",
       "    .dataframe tbody tr th:only-of-type {\n",
       "        vertical-align: middle;\n",
       "    }\n",
       "\n",
       "    .dataframe tbody tr th {\n",
       "        vertical-align: top;\n",
       "    }\n",
       "\n",
       "    .dataframe thead th {\n",
       "        text-align: right;\n",
       "    }\n",
       "</style>\n",
       "<table border=\"1\" class=\"dataframe\">\n",
       "  <thead>\n",
       "    <tr style=\"text-align: right;\">\n",
       "      <th></th>\n",
       "      <th>loan status</th>\n",
       "      <th>employment length</th>\n",
       "      <th>income verification</th>\n",
       "      <th>term</th>\n",
       "      <th>purpose</th>\n",
       "      <th>housing type</th>\n",
       "      <th>delayed payments</th>\n",
       "      <th>pending registration</th>\n",
       "      <th>credit application</th>\n",
       "    </tr>\n",
       "  </thead>\n",
       "  <tbody>\n",
       "    <tr>\n",
       "      <th>0</th>\n",
       "      <td>Fully Paid</td>\n",
       "      <td>10+ years</td>\n",
       "      <td>Verified</td>\n",
       "      <td>36 months</td>\n",
       "      <td>credit_card</td>\n",
       "      <td>RENT</td>\n",
       "      <td>NO</td>\n",
       "      <td>NO</td>\n",
       "      <td>ONE</td>\n",
       "    </tr>\n",
       "    <tr>\n",
       "      <th>1</th>\n",
       "      <td>Charged Off</td>\n",
       "      <td>&lt; 1 year</td>\n",
       "      <td>Source Verified</td>\n",
       "      <td>60 months</td>\n",
       "      <td>car</td>\n",
       "      <td>RENT</td>\n",
       "      <td>NO</td>\n",
       "      <td>NO</td>\n",
       "      <td>FOUR+</td>\n",
       "    </tr>\n",
       "    <tr>\n",
       "      <th>2</th>\n",
       "      <td>Fully Paid</td>\n",
       "      <td>10+ years</td>\n",
       "      <td>Not Verified</td>\n",
       "      <td>36 months</td>\n",
       "      <td>small_business</td>\n",
       "      <td>RENT</td>\n",
       "      <td>NO</td>\n",
       "      <td>NO</td>\n",
       "      <td>TWO</td>\n",
       "    </tr>\n",
       "    <tr>\n",
       "      <th>3</th>\n",
       "      <td>Fully Paid</td>\n",
       "      <td>10+ years</td>\n",
       "      <td>Source Verified</td>\n",
       "      <td>36 months</td>\n",
       "      <td>other</td>\n",
       "      <td>RENT</td>\n",
       "      <td>NO</td>\n",
       "      <td>NO</td>\n",
       "      <td>ONE</td>\n",
       "    </tr>\n",
       "    <tr>\n",
       "      <th>4</th>\n",
       "      <td>Fully Paid</td>\n",
       "      <td>3 years</td>\n",
       "      <td>Source Verified</td>\n",
       "      <td>36 months</td>\n",
       "      <td>wedding</td>\n",
       "      <td>RENT</td>\n",
       "      <td>NO</td>\n",
       "      <td>NO</td>\n",
       "      <td>THREE</td>\n",
       "    </tr>\n",
       "  </tbody>\n",
       "</table>\n",
       "</div>"
      ],
      "text/plain": [
       "   loan status employment length income verification        term  \\\n",
       "0   Fully Paid         10+ years            Verified   36 months   \n",
       "1  Charged Off          < 1 year     Source Verified   60 months   \n",
       "2   Fully Paid         10+ years        Not Verified   36 months   \n",
       "3   Fully Paid         10+ years     Source Verified   36 months   \n",
       "4   Fully Paid           3 years     Source Verified   36 months   \n",
       "\n",
       "          purpose housing type delayed payments pending registration  \\\n",
       "0     credit_card         RENT               NO                   NO   \n",
       "1             car         RENT               NO                   NO   \n",
       "2  small_business         RENT               NO                   NO   \n",
       "3           other         RENT               NO                   NO   \n",
       "4         wedding         RENT               NO                   NO   \n",
       "\n",
       "  credit application  \n",
       "0                ONE  \n",
       "1              FOUR+  \n",
       "2                TWO  \n",
       "3                ONE  \n",
       "4              THREE  "
      ]
     },
     "execution_count": 6,
     "metadata": {},
     "output_type": "execute_result"
    }
   ],
   "source": [
    "object_df = df.select_dtypes(object)\n",
    "object_df.head()"
   ]
  },
  {
   "cell_type": "code",
   "execution_count": 7,
   "id": "c0f6cf57",
   "metadata": {},
   "outputs": [
    {
     "data": {
      "text/plain": [
       "array(['Fully Paid', 'Charged Off'], dtype=object)"
      ]
     },
     "execution_count": 7,
     "metadata": {},
     "output_type": "execute_result"
    }
   ],
   "source": [
    "df['loan status'].unique()"
   ]
  },
  {
   "cell_type": "code",
   "execution_count": 8,
   "id": "46c427c6",
   "metadata": {},
   "outputs": [
    {
     "data": {
      "text/plain": [
       "loan status\n",
       "Fully Paid     184702\n",
       "Charged Off     42468\n",
       "Name: count, dtype: int64"
      ]
     },
     "execution_count": 8,
     "metadata": {},
     "output_type": "execute_result"
    }
   ],
   "source": [
    "df['loan status'].value_counts()"
   ]
  },
  {
   "cell_type": "code",
   "execution_count": 9,
   "id": "99f24faa",
   "metadata": {},
   "outputs": [
    {
     "data": {
      "text/plain": [
       "array(['credit_card', 'car', 'small_business', 'other', 'wedding',\n",
       "       'debt_consolidation', 'home_improvement', 'major_purchase',\n",
       "       'medical', 'moving', 'vacation', 'house', 'renewable_energy',\n",
       "       'educational'], dtype=object)"
      ]
     },
     "execution_count": 9,
     "metadata": {},
     "output_type": "execute_result"
    }
   ],
   "source": [
    "df['purpose'].unique()"
   ]
  },
  {
   "cell_type": "code",
   "execution_count": 10,
   "id": "73288c1b",
   "metadata": {},
   "outputs": [
    {
     "data": {
      "text/plain": [
       "{'debt_consolidation': 132263,\n",
       " 'credit_card': 45523,\n",
       " 'home_improvement': 13199,\n",
       " 'other': 12832,\n",
       " 'major_purchase': 5720,\n",
       " 'small_business': 4486,\n",
       " 'car': 3391,\n",
       " 'medical': 2577,\n",
       " 'wedding': 1954,\n",
       " 'moving': 1797,\n",
       " 'house': 1449,\n",
       " 'vacation': 1403,\n",
       " 'educational': 325,\n",
       " 'renewable_energy': 251}"
      ]
     },
     "execution_count": 10,
     "metadata": {},
     "output_type": "execute_result"
    }
   ],
   "source": [
    "df['purpose'].value_counts().to_dict()"
   ]
  },
  {
   "cell_type": "code",
   "execution_count": 11,
   "id": "1e304594",
   "metadata": {},
   "outputs": [
    {
     "data": {
      "text/plain": [
       "count    227170.000000\n",
       "mean      13458.332856\n",
       "std        8046.324781\n",
       "min         500.000000\n",
       "25%        7200.000000\n",
       "50%       12000.000000\n",
       "75%       18000.000000\n",
       "max       35000.000000\n",
       "Name: loan amount, dtype: float64"
      ]
     },
     "execution_count": 11,
     "metadata": {},
     "output_type": "execute_result"
    }
   ],
   "source": [
    "df['loan amount'].describe()\n"
   ]
  },
  {
   "cell_type": "code",
   "execution_count": 12,
   "id": "b944ac00",
   "metadata": {},
   "outputs": [
    {
     "data": {
      "text/html": [
       "<div>\n",
       "<style scoped>\n",
       "    .dataframe tbody tr th:only-of-type {\n",
       "        vertical-align: middle;\n",
       "    }\n",
       "\n",
       "    .dataframe tbody tr th {\n",
       "        vertical-align: top;\n",
       "    }\n",
       "\n",
       "    .dataframe thead th {\n",
       "        text-align: right;\n",
       "    }\n",
       "</style>\n",
       "<table border=\"1\" class=\"dataframe\">\n",
       "  <thead>\n",
       "    <tr style=\"text-align: right;\">\n",
       "      <th></th>\n",
       "      <th>annual income</th>\n",
       "      <th>loan amount</th>\n",
       "      <th>intrest rate</th>\n",
       "      <th>debt to income ratio</th>\n",
       "      <th>credit availability</th>\n",
       "    </tr>\n",
       "  </thead>\n",
       "  <tbody>\n",
       "    <tr>\n",
       "      <th>count</th>\n",
       "      <td>2.271700e+05</td>\n",
       "      <td>227170.000000</td>\n",
       "      <td>227170.000000</td>\n",
       "      <td>227170.000000</td>\n",
       "      <td>227170.000000</td>\n",
       "    </tr>\n",
       "    <tr>\n",
       "      <th>mean</th>\n",
       "      <td>7.203670e+04</td>\n",
       "      <td>13458.332856</td>\n",
       "      <td>13.768522</td>\n",
       "      <td>16.364104</td>\n",
       "      <td>10.832702</td>\n",
       "    </tr>\n",
       "    <tr>\n",
       "      <th>std</th>\n",
       "      <td>5.529518e+04</td>\n",
       "      <td>8046.324781</td>\n",
       "      <td>4.383476</td>\n",
       "      <td>7.669369</td>\n",
       "      <td>4.798500</td>\n",
       "    </tr>\n",
       "    <tr>\n",
       "      <th>min</th>\n",
       "      <td>3.000000e+03</td>\n",
       "      <td>500.000000</td>\n",
       "      <td>5.420000</td>\n",
       "      <td>0.000000</td>\n",
       "      <td>0.000000</td>\n",
       "    </tr>\n",
       "    <tr>\n",
       "      <th>25%</th>\n",
       "      <td>4.500000e+04</td>\n",
       "      <td>7200.000000</td>\n",
       "      <td>10.740000</td>\n",
       "      <td>10.660000</td>\n",
       "      <td>7.000000</td>\n",
       "    </tr>\n",
       "    <tr>\n",
       "      <th>50%</th>\n",
       "      <td>6.200000e+04</td>\n",
       "      <td>12000.000000</td>\n",
       "      <td>13.610000</td>\n",
       "      <td>16.050000</td>\n",
       "      <td>10.000000</td>\n",
       "    </tr>\n",
       "    <tr>\n",
       "      <th>75%</th>\n",
       "      <td>8.600000e+04</td>\n",
       "      <td>18000.000000</td>\n",
       "      <td>16.450000</td>\n",
       "      <td>21.780000</td>\n",
       "      <td>13.000000</td>\n",
       "    </tr>\n",
       "    <tr>\n",
       "      <th>max</th>\n",
       "      <td>7.141778e+06</td>\n",
       "      <td>35000.000000</td>\n",
       "      <td>26.060000</td>\n",
       "      <td>39.990000</td>\n",
       "      <td>76.000000</td>\n",
       "    </tr>\n",
       "  </tbody>\n",
       "</table>\n",
       "</div>"
      ],
      "text/plain": [
       "       annual income    loan amount   intrest rate  debt to income ratio  \\\n",
       "count   2.271700e+05  227170.000000  227170.000000         227170.000000   \n",
       "mean    7.203670e+04   13458.332856      13.768522             16.364104   \n",
       "std     5.529518e+04    8046.324781       4.383476              7.669369   \n",
       "min     3.000000e+03     500.000000       5.420000              0.000000   \n",
       "25%     4.500000e+04    7200.000000      10.740000             10.660000   \n",
       "50%     6.200000e+04   12000.000000      13.610000             16.050000   \n",
       "75%     8.600000e+04   18000.000000      16.450000             21.780000   \n",
       "max     7.141778e+06   35000.000000      26.060000             39.990000   \n",
       "\n",
       "       credit availability  \n",
       "count        227170.000000  \n",
       "mean             10.832702  \n",
       "std               4.798500  \n",
       "min               0.000000  \n",
       "25%               7.000000  \n",
       "50%              10.000000  \n",
       "75%              13.000000  \n",
       "max              76.000000  "
      ]
     },
     "execution_count": 12,
     "metadata": {},
     "output_type": "execute_result"
    }
   ],
   "source": [
    "df.describe()"
   ]
  },
  {
   "cell_type": "code",
   "execution_count": 13,
   "id": "2878a32f",
   "metadata": {},
   "outputs": [
    {
     "data": {
      "text/plain": [
       "loan status             0\n",
       "annual income           0\n",
       "employment length       0\n",
       "loan amount             0\n",
       "income verification     0\n",
       "intrest rate            0\n",
       "term                    0\n",
       "purpose                 0\n",
       "housing type            0\n",
       "debt to income ratio    0\n",
       "credit availability     0\n",
       "delayed payments        0\n",
       "pending registration    0\n",
       "credit application      0\n",
       "dtype: int64"
      ]
     },
     "execution_count": 13,
     "metadata": {},
     "output_type": "execute_result"
    }
   ],
   "source": [
    "df['employment length'] = df['employment length'].fillna('ffill')\n",
    "df.isnull().sum()\n"
   ]
  },
  {
   "cell_type": "code",
   "execution_count": 14,
   "id": "ce09e5d5",
   "metadata": {},
   "outputs": [
    {
     "data": {
      "text/plain": [
       "array(['Verified', 'Source Verified', 'Not Verified'], dtype=object)"
      ]
     },
     "execution_count": 14,
     "metadata": {},
     "output_type": "execute_result"
    }
   ],
   "source": [
    "df['income verification'].unique()"
   ]
  },
  {
   "cell_type": "code",
   "execution_count": 16,
   "id": "0092479b",
   "metadata": {},
   "outputs": [
    {
     "data": {
      "text/plain": [
       "array(['ONE', 'FOUR+', 'TWO', 'THREE', 'NONE'], dtype=object)"
      ]
     },
     "execution_count": 16,
     "metadata": {},
     "output_type": "execute_result"
    }
   ],
   "source": [
    "df['credit application'].unique()"
   ]
  },
  {
   "cell_type": "code",
   "execution_count": 19,
   "id": "e881ec1c",
   "metadata": {},
   "outputs": [
    {
     "data": {
      "text/plain": [
       "array(['RENT', 'OWN', 'MORTGAGE', 'OTHER'], dtype=object)"
      ]
     },
     "execution_count": 19,
     "metadata": {},
     "output_type": "execute_result"
    }
   ],
   "source": [
    "df['housing type'].unique()"
   ]
  },
  {
   "cell_type": "code",
   "execution_count": 18,
   "id": "f1eac560",
   "metadata": {},
   "outputs": [
    {
     "data": {
      "text/plain": [
       "array(['NO', 'YES'], dtype=object)"
      ]
     },
     "execution_count": 18,
     "metadata": {},
     "output_type": "execute_result"
    }
   ],
   "source": [
    "df['pending registration'].unique()"
   ]
  },
  {
   "cell_type": "code",
   "execution_count": 26,
   "id": "e4bd993c",
   "metadata": {},
   "outputs": [
    {
     "data": {
      "text/plain": [
       "loan status\n",
       "Fully Paid     81.30563\n",
       "Charged Off    18.69437\n",
       "Name: proportion, dtype: float64"
      ]
     },
     "execution_count": 26,
     "metadata": {},
     "output_type": "execute_result"
    }
   ],
   "source": [
    "df['loan status'].value_counts(normalize=True) * 100"
   ]
  },
  {
   "cell_type": "code",
   "execution_count": 28,
   "id": "0cd7d9a8",
   "metadata": {},
   "outputs": [
    {
     "name": "stderr",
     "output_type": "stream",
     "text": [
      "C:\\Users\\usar\\AppData\\Local\\Temp\\ipykernel_20184\\4018679107.py:1: FutureWarning: Downcasting behavior in `replace` is deprecated and will be removed in a future version. To retain the old behavior, explicitly call `result.infer_objects(copy=False)`. To opt-in to the future behavior, set `pd.set_option('future.no_silent_downcasting', True)`\n",
      "  df['loan status'] = df['loan status'].replace({'Fully Paid': 1, 'Charged Off': 0})\n"
     ]
    },
    {
     "data": {
      "text/plain": [
       "loan status\n",
       "1    184702\n",
       "0     42468\n",
       "Name: count, dtype: int64"
      ]
     },
     "execution_count": 28,
     "metadata": {},
     "output_type": "execute_result"
    }
   ],
   "source": [
    "df['loan status'] = df['loan status'].replace({'Fully Paid': 1, 'Charged Off': 0})\n",
    "df['loan status'].value_counts()"
   ]
  },
  {
   "cell_type": "code",
   "execution_count": 29,
   "id": "b795b894",
   "metadata": {},
   "outputs": [
    {
     "name": "stdout",
     "output_type": "stream",
     "text": [
      "DataFrame exported as ../data/processed/2024-12-03_processed_data.csv\n"
     ]
    }
   ],
   "source": [
    "from datetime import datetime\n",
    "\n",
    "# Get today's date in YYYY-MM-DD format\n",
    "today_date = datetime.now().strftime('%Y-%m-%d')\n",
    "\n",
    "# Generate the filename\n",
    "filename = f\"../data/processed/{today_date}_processed_data.csv\"\n",
    "\n",
    "# Export the DataFrame\n",
    "df.to_csv(filename, index=False)\n",
    "\n",
    "print(f\"DataFrame exported as {filename}\")\n"
   ]
  }
 ],
 "metadata": {
  "kernelspec": {
   "display_name": "venv",
   "language": "python",
   "name": "python3"
  },
  "language_info": {
   "codemirror_mode": {
    "name": "ipython",
    "version": 3
   },
   "file_extension": ".py",
   "mimetype": "text/x-python",
   "name": "python",
   "nbconvert_exporter": "python",
   "pygments_lexer": "ipython3",
   "version": "3.12.2"
  }
 },
 "nbformat": 4,
 "nbformat_minor": 5
}
