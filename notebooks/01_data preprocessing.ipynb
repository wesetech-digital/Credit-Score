{
 "cells": [
  {
   "cell_type": "code",
   "execution_count": 1,
   "id": "73ee707e-2ff8-4304-891a-dbc38e9ce43d",
   "metadata": {},
   "outputs": [],
   "source": [
    "#Loading Data"
   ]
  },
  {
   "cell_type": "code",
   "execution_count": 2,
   "id": "e814b1f0-635a-4b5a-8a13-3b428f0984ad",
   "metadata": {},
   "outputs": [],
   "source": [
    "import pandas as pd\n",
    "import numpy as np"
   ]
  },
  {
   "cell_type": "code",
   "execution_count": 3,
   "id": "e813c0e9-5b23-437b-a8a2-fce3357e29b8",
   "metadata": {},
   "outputs": [],
   "source": [
    "path = '../data/raw/experimental.xlsx'\n",
    "df = pd.read_excel(path)"
   ]
  },
  {
   "cell_type": "code",
   "execution_count": 4,
   "id": "3f671cff-1e41-46ac-b82e-9ce874fe2a7d",
   "metadata": {},
   "outputs": [
    {
     "data": {
      "text/html": [
       "<div>\n",
       "<style scoped>\n",
       "    .dataframe tbody tr th:only-of-type {\n",
       "        vertical-align: middle;\n",
       "    }\n",
       "\n",
       "    .dataframe tbody tr th {\n",
       "        vertical-align: top;\n",
       "    }\n",
       "\n",
       "    .dataframe thead th {\n",
       "        text-align: right;\n",
       "    }\n",
       "</style>\n",
       "<table border=\"1\" class=\"dataframe\">\n",
       "  <thead>\n",
       "    <tr style=\"text-align: right;\">\n",
       "      <th></th>\n",
       "      <th>loan status</th>\n",
       "      <th>annual income</th>\n",
       "      <th>employment length</th>\n",
       "      <th>loan amount</th>\n",
       "      <th>income verification</th>\n",
       "      <th>intrest rate</th>\n",
       "      <th>term</th>\n",
       "      <th>purpose</th>\n",
       "      <th>housing type</th>\n",
       "      <th>debt to income ratio</th>\n",
       "      <th>credit availability</th>\n",
       "      <th>delayed payments</th>\n",
       "      <th>pending registration</th>\n",
       "      <th>credit application</th>\n",
       "    </tr>\n",
       "  </thead>\n",
       "  <tbody>\n",
       "    <tr>\n",
       "      <th>0</th>\n",
       "      <td>Fully Paid</td>\n",
       "      <td>24000.0</td>\n",
       "      <td>10+ years</td>\n",
       "      <td>5000</td>\n",
       "      <td>Verified</td>\n",
       "      <td>10.65</td>\n",
       "      <td>36 months</td>\n",
       "      <td>credit_card</td>\n",
       "      <td>RENT</td>\n",
       "      <td>27.65</td>\n",
       "      <td>3</td>\n",
       "      <td>NO</td>\n",
       "      <td>NO</td>\n",
       "      <td>ONE</td>\n",
       "    </tr>\n",
       "    <tr>\n",
       "      <th>1</th>\n",
       "      <td>Charged Off</td>\n",
       "      <td>30000.0</td>\n",
       "      <td>&lt; 1 year</td>\n",
       "      <td>2500</td>\n",
       "      <td>Source Verified</td>\n",
       "      <td>15.27</td>\n",
       "      <td>60 months</td>\n",
       "      <td>car</td>\n",
       "      <td>RENT</td>\n",
       "      <td>1.00</td>\n",
       "      <td>3</td>\n",
       "      <td>NO</td>\n",
       "      <td>NO</td>\n",
       "      <td>FOUR+</td>\n",
       "    </tr>\n",
       "    <tr>\n",
       "      <th>2</th>\n",
       "      <td>Fully Paid</td>\n",
       "      <td>12252.0</td>\n",
       "      <td>10+ years</td>\n",
       "      <td>2400</td>\n",
       "      <td>Not Verified</td>\n",
       "      <td>15.96</td>\n",
       "      <td>36 months</td>\n",
       "      <td>small_business</td>\n",
       "      <td>RENT</td>\n",
       "      <td>8.72</td>\n",
       "      <td>2</td>\n",
       "      <td>NO</td>\n",
       "      <td>NO</td>\n",
       "      <td>TWO</td>\n",
       "    </tr>\n",
       "    <tr>\n",
       "      <th>3</th>\n",
       "      <td>Fully Paid</td>\n",
       "      <td>49200.0</td>\n",
       "      <td>10+ years</td>\n",
       "      <td>10000</td>\n",
       "      <td>Source Verified</td>\n",
       "      <td>13.49</td>\n",
       "      <td>36 months</td>\n",
       "      <td>other</td>\n",
       "      <td>RENT</td>\n",
       "      <td>20.00</td>\n",
       "      <td>10</td>\n",
       "      <td>NO</td>\n",
       "      <td>NO</td>\n",
       "      <td>ONE</td>\n",
       "    </tr>\n",
       "    <tr>\n",
       "      <th>4</th>\n",
       "      <td>Fully Paid</td>\n",
       "      <td>36000.0</td>\n",
       "      <td>3 years</td>\n",
       "      <td>5000</td>\n",
       "      <td>Source Verified</td>\n",
       "      <td>7.90</td>\n",
       "      <td>36 months</td>\n",
       "      <td>wedding</td>\n",
       "      <td>RENT</td>\n",
       "      <td>11.20</td>\n",
       "      <td>9</td>\n",
       "      <td>NO</td>\n",
       "      <td>NO</td>\n",
       "      <td>THREE</td>\n",
       "    </tr>\n",
       "  </tbody>\n",
       "</table>\n",
       "</div>"
      ],
      "text/plain": [
       "   loan status  annual income employment length  loan amount  \\\n",
       "0   Fully Paid        24000.0         10+ years         5000   \n",
       "1  Charged Off        30000.0          < 1 year         2500   \n",
       "2   Fully Paid        12252.0         10+ years         2400   \n",
       "3   Fully Paid        49200.0         10+ years        10000   \n",
       "4   Fully Paid        36000.0           3 years         5000   \n",
       "\n",
       "  income verification  intrest rate        term         purpose housing type  \\\n",
       "0            Verified         10.65   36 months     credit_card         RENT   \n",
       "1     Source Verified         15.27   60 months             car         RENT   \n",
       "2        Not Verified         15.96   36 months  small_business         RENT   \n",
       "3     Source Verified         13.49   36 months           other         RENT   \n",
       "4     Source Verified          7.90   36 months         wedding         RENT   \n",
       "\n",
       "   debt to income ratio  credit availability delayed payments  \\\n",
       "0                 27.65                    3               NO   \n",
       "1                  1.00                    3               NO   \n",
       "2                  8.72                    2               NO   \n",
       "3                 20.00                   10               NO   \n",
       "4                 11.20                    9               NO   \n",
       "\n",
       "  pending registration credit application  \n",
       "0                   NO                ONE  \n",
       "1                   NO              FOUR+  \n",
       "2                   NO                TWO  \n",
       "3                   NO                ONE  \n",
       "4                   NO              THREE  "
      ]
     },
     "execution_count": 4,
     "metadata": {},
     "output_type": "execute_result"
    }
   ],
   "source": [
    "df.head()\n"
   ]
  },
  {
   "cell_type": "code",
   "execution_count": 5,
   "id": "bc323fc3",
   "metadata": {},
   "outputs": [
    {
     "name": "stdout",
     "output_type": "stream",
     "text": [
      "<class 'pandas.core.frame.DataFrame'>\n",
      "RangeIndex: 227170 entries, 0 to 227169\n",
      "Data columns (total 14 columns):\n",
      " #   Column                Non-Null Count   Dtype  \n",
      "---  ------                --------------   -----  \n",
      " 0   loan status           227170 non-null  object \n",
      " 1   annual income         227170 non-null  float64\n",
      " 2   employment length     218498 non-null  object \n",
      " 3   loan amount           227170 non-null  int64  \n",
      " 4   income verification   227170 non-null  object \n",
      " 5   intrest rate          227170 non-null  float64\n",
      " 6   term                  227170 non-null  object \n",
      " 7   purpose               227170 non-null  object \n",
      " 8   housing type          227170 non-null  object \n",
      " 9   debt to income ratio  227170 non-null  float64\n",
      " 10  credit availability   227170 non-null  int64  \n",
      " 11  delayed payments      227170 non-null  object \n",
      " 12  pending registration  227170 non-null  object \n",
      " 13  credit application    227170 non-null  object \n",
      "dtypes: float64(3), int64(2), object(9)\n",
      "memory usage: 24.3+ MB\n"
     ]
    }
   ],
   "source": [
    "df.info()"
   ]
  },
  {
   "cell_type": "code",
   "execution_count": 6,
   "id": "0ff4c702",
   "metadata": {},
   "outputs": [
    {
     "data": {
      "text/plain": [
       "loan status                0\n",
       "annual income              0\n",
       "employment length       8672\n",
       "loan amount                0\n",
       "income verification        0\n",
       "intrest rate               0\n",
       "term                       0\n",
       "purpose                    0\n",
       "housing type               0\n",
       "debt to income ratio       0\n",
       "credit availability        0\n",
       "delayed payments           0\n",
       "pending registration       0\n",
       "credit application         0\n",
       "dtype: int64"
      ]
     },
     "execution_count": 6,
     "metadata": {},
     "output_type": "execute_result"
    }
   ],
   "source": [
    "df.isnull().sum()\n"
   ]
  },
  {
   "cell_type": "code",
   "execution_count": 9,
   "id": "c0f6cf57",
   "metadata": {},
   "outputs": [
    {
     "data": {
      "text/plain": [
       "array(['Fully Paid', 'Charged Off'], dtype=object)"
      ]
     },
     "execution_count": 9,
     "metadata": {},
     "output_type": "execute_result"
    }
   ],
   "source": [
    "df['loan status'].unique()"
   ]
  },
  {
   "cell_type": "code",
   "execution_count": 10,
   "id": "46c427c6",
   "metadata": {},
   "outputs": [
    {
     "data": {
      "text/plain": [
       "loan status\n",
       "Fully Paid     184702\n",
       "Charged Off     42468\n",
       "Name: count, dtype: int64"
      ]
     },
     "execution_count": 10,
     "metadata": {},
     "output_type": "execute_result"
    }
   ],
   "source": [
    "df['loan status'].value_counts()"
   ]
  },
  {
   "cell_type": "code",
   "execution_count": 11,
   "id": "99f24faa",
   "metadata": {},
   "outputs": [
    {
     "data": {
      "text/plain": [
       "array(['credit_card', 'car', 'small_business', 'other', 'wedding',\n",
       "       'debt_consolidation', 'home_improvement', 'major_purchase',\n",
       "       'medical', 'moving', 'vacation', 'house', 'renewable_energy',\n",
       "       'educational'], dtype=object)"
      ]
     },
     "execution_count": 11,
     "metadata": {},
     "output_type": "execute_result"
    }
   ],
   "source": [
    "df['purpose'].unique()"
   ]
  },
  {
   "cell_type": "code",
   "execution_count": 12,
   "id": "73288c1b",
   "metadata": {},
   "outputs": [
    {
     "data": {
      "text/plain": [
       "purpose\n",
       "debt_consolidation    132263\n",
       "credit_card            45523\n",
       "home_improvement       13199\n",
       "other                  12832\n",
       "major_purchase          5720\n",
       "small_business          4486\n",
       "car                     3391\n",
       "medical                 2577\n",
       "wedding                 1954\n",
       "moving                  1797\n",
       "house                   1449\n",
       "vacation                1403\n",
       "educational              325\n",
       "renewable_energy         251\n",
       "Name: count, dtype: int64"
      ]
     },
     "execution_count": 12,
     "metadata": {},
     "output_type": "execute_result"
    }
   ],
   "source": [
    "df['purpose'].value_counts()"
   ]
  },
  {
   "cell_type": "code",
   "execution_count": 13,
   "id": "1e304594",
   "metadata": {},
   "outputs": [
    {
     "data": {
      "text/plain": [
       "count    227170.000000\n",
       "mean      13458.332856\n",
       "std        8046.324781\n",
       "min         500.000000\n",
       "25%        7200.000000\n",
       "50%       12000.000000\n",
       "75%       18000.000000\n",
       "max       35000.000000\n",
       "Name: loan amount, dtype: float64"
      ]
     },
     "execution_count": 13,
     "metadata": {},
     "output_type": "execute_result"
    }
   ],
   "source": [
    "df['loan amount'].describe()\n"
   ]
  },
  {
   "cell_type": "code",
   "execution_count": 15,
   "id": "b944ac00",
   "metadata": {},
   "outputs": [
    {
     "data": {
      "text/html": [
       "<div>\n",
       "<style scoped>\n",
       "    .dataframe tbody tr th:only-of-type {\n",
       "        vertical-align: middle;\n",
       "    }\n",
       "\n",
       "    .dataframe tbody tr th {\n",
       "        vertical-align: top;\n",
       "    }\n",
       "\n",
       "    .dataframe thead th {\n",
       "        text-align: right;\n",
       "    }\n",
       "</style>\n",
       "<table border=\"1\" class=\"dataframe\">\n",
       "  <thead>\n",
       "    <tr style=\"text-align: right;\">\n",
       "      <th></th>\n",
       "      <th>annual income</th>\n",
       "      <th>loan amount</th>\n",
       "      <th>intrest rate</th>\n",
       "      <th>debt to income ratio</th>\n",
       "      <th>credit availability</th>\n",
       "    </tr>\n",
       "  </thead>\n",
       "  <tbody>\n",
       "    <tr>\n",
       "      <th>count</th>\n",
       "      <td>2.271700e+05</td>\n",
       "      <td>227170.000000</td>\n",
       "      <td>227170.000000</td>\n",
       "      <td>227170.000000</td>\n",
       "      <td>227170.000000</td>\n",
       "    </tr>\n",
       "    <tr>\n",
       "      <th>mean</th>\n",
       "      <td>7.203670e+04</td>\n",
       "      <td>13458.332856</td>\n",
       "      <td>13.768522</td>\n",
       "      <td>16.364104</td>\n",
       "      <td>10.832702</td>\n",
       "    </tr>\n",
       "    <tr>\n",
       "      <th>std</th>\n",
       "      <td>5.529518e+04</td>\n",
       "      <td>8046.324781</td>\n",
       "      <td>4.383476</td>\n",
       "      <td>7.669369</td>\n",
       "      <td>4.798500</td>\n",
       "    </tr>\n",
       "    <tr>\n",
       "      <th>min</th>\n",
       "      <td>3.000000e+03</td>\n",
       "      <td>500.000000</td>\n",
       "      <td>5.420000</td>\n",
       "      <td>0.000000</td>\n",
       "      <td>0.000000</td>\n",
       "    </tr>\n",
       "    <tr>\n",
       "      <th>25%</th>\n",
       "      <td>4.500000e+04</td>\n",
       "      <td>7200.000000</td>\n",
       "      <td>10.740000</td>\n",
       "      <td>10.660000</td>\n",
       "      <td>7.000000</td>\n",
       "    </tr>\n",
       "    <tr>\n",
       "      <th>50%</th>\n",
       "      <td>6.200000e+04</td>\n",
       "      <td>12000.000000</td>\n",
       "      <td>13.610000</td>\n",
       "      <td>16.050000</td>\n",
       "      <td>10.000000</td>\n",
       "    </tr>\n",
       "    <tr>\n",
       "      <th>75%</th>\n",
       "      <td>8.600000e+04</td>\n",
       "      <td>18000.000000</td>\n",
       "      <td>16.450000</td>\n",
       "      <td>21.780000</td>\n",
       "      <td>13.000000</td>\n",
       "    </tr>\n",
       "    <tr>\n",
       "      <th>max</th>\n",
       "      <td>7.141778e+06</td>\n",
       "      <td>35000.000000</td>\n",
       "      <td>26.060000</td>\n",
       "      <td>39.990000</td>\n",
       "      <td>76.000000</td>\n",
       "    </tr>\n",
       "  </tbody>\n",
       "</table>\n",
       "</div>"
      ],
      "text/plain": [
       "       annual income    loan amount   intrest rate  debt to income ratio  \\\n",
       "count   2.271700e+05  227170.000000  227170.000000         227170.000000   \n",
       "mean    7.203670e+04   13458.332856      13.768522             16.364104   \n",
       "std     5.529518e+04    8046.324781       4.383476              7.669369   \n",
       "min     3.000000e+03     500.000000       5.420000              0.000000   \n",
       "25%     4.500000e+04    7200.000000      10.740000             10.660000   \n",
       "50%     6.200000e+04   12000.000000      13.610000             16.050000   \n",
       "75%     8.600000e+04   18000.000000      16.450000             21.780000   \n",
       "max     7.141778e+06   35000.000000      26.060000             39.990000   \n",
       "\n",
       "       credit availability  \n",
       "count        227170.000000  \n",
       "mean             10.832702  \n",
       "std               4.798500  \n",
       "min               0.000000  \n",
       "25%               7.000000  \n",
       "50%              10.000000  \n",
       "75%              13.000000  \n",
       "max              76.000000  "
      ]
     },
     "execution_count": 15,
     "metadata": {},
     "output_type": "execute_result"
    }
   ],
   "source": [
    "df.describe()"
   ]
  }
 ],
 "metadata": {
  "kernelspec": {
   "display_name": "venv",
   "language": "python",
   "name": "python3"
  },
  "language_info": {
   "codemirror_mode": {
    "name": "ipython",
    "version": 3
   },
   "file_extension": ".py",
   "mimetype": "text/x-python",
   "name": "python",
   "nbconvert_exporter": "python",
   "pygments_lexer": "ipython3",
   "version": "3.12.2"
  }
 },
 "nbformat": 4,
 "nbformat_minor": 5
}
